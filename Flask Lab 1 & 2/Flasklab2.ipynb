{
 "cells": [
  {
   "cell_type": "code",
   "execution_count": 3,
   "id": "430d7e34-75f0-4673-aa80-ea3a8688d0a9",
   "metadata": {},
   "outputs": [
    {
     "data": {
      "text/html": [
       "<h1>Hello, World!</h1>"
      ],
      "text/plain": [
       "<IPython.core.display.HTML object>"
      ]
     },
     "metadata": {},
     "output_type": "display_data"
    }
   ],
   "source": [
    "from IPython.display import display, HTML\n",
    "\n",
    "# Display HTML content\n",
    "display(HTML(\"<h1>Hello, World!</h1>\"))"
   ]
  },
  {
   "cell_type": "code",
   "execution_count": 7,
   "id": "399f2887-7a8e-4699-ad35-8d0f17126f55",
   "metadata": {},
   "outputs": [
    {
     "data": {
      "application/javascript": [
       "window.open(\"/proxy/5000/\",\"_blank\")"
      ],
      "text/plain": [
       "<IPython.core.display.Javascript object>"
      ]
     },
     "metadata": {},
     "output_type": "display_data"
    },
    {
     "name": "stdout",
     "output_type": "stream",
     "text": [
      " * Serving Flask app '__main__'\n",
      " * Debug mode: off\n"
     ]
    },
    {
     "name": "stderr",
     "output_type": "stream",
     "text": [
      "WARNING: This is a development server. Do not use it in a production deployment. Use a production WSGI server instead.\n",
      " * Running on all addresses (0.0.0.0)\n",
      " * Running on http://127.0.0.1:5000\n",
      " * Running on http://192.168.0.102:5000\n",
      "Press CTRL+C to quit\n",
      "192.168.0.102 - - [30/Sep/2024 12:04:25] \"GET / HTTP/1.1\" 200 -\n",
      "192.168.0.102 - - [30/Sep/2024 12:04:27] \"GET /about HTTP/1.1\" 200 -\n",
      "192.168.0.102 - - [30/Sep/2024 12:04:29] \"GET / HTTP/1.1\" 200 -\n",
      "192.168.0.102 - - [30/Sep/2024 12:04:43] \"GET /contact HTTP/1.1\" 200 -\n",
      "192.168.0.102 - - [30/Sep/2024 12:04:56] \"GET / HTTP/1.1\" 200 -\n",
      "192.168.0.102 - - [30/Sep/2024 12:04:57] \"GET /about HTTP/1.1\" 200 -\n",
      "192.168.0.102 - - [30/Sep/2024 12:04:58] \"GET / HTTP/1.1\" 200 -\n",
      "192.168.0.102 - - [30/Sep/2024 12:05:49] \"GET /about HTTP/1.1\" 200 -\n",
      "192.168.0.102 - - [30/Sep/2024 12:06:39] \"GET / HTTP/1.1\" 200 -\n",
      "192.168.0.102 - - [30/Sep/2024 12:12:17] \"GET /contact HTTP/1.1\" 200 -\n"
     ]
    }
   ],
   "source": [
    "# Import necessary libraries\n",
    "from flask import Flask\n",
    "from IPython.display import display, Javascript\n",
    "\n",
    "# Initialize the Flask application\n",
    "app = Flask(__name__)\n",
    "\n",
    "# Route for the Home page\n",
    "@app.route('/')\n",
    "def home():\n",
    "    return '''\n",
    "    <h1>Welcome to Flask in Jupyter!</h1>\n",
    "    <p>This is a simple webpage served using Flask inside Jupyter.</p>\n",
    "    <a href=\"/about\">Go to About Page</a>\n",
    "    '''\n",
    "\n",
    "# Route for the About page\n",
    "@app.route('/about')\n",
    "def about():\n",
    "    return '''\n",
    "    <h1>About This Web App</h1>\n",
    "    <p>This page was generated using Flask within a Jupyter notebook. It's a simple example to show Flask routing.</p>\n",
    "    <a href=\"/\">Go back Home</a>\n",
    "    '''\n",
    "    \n",
    "@app.route('/contact')\n",
    "def contact():\n",
    "    return '''\n",
    "    <h1>Contact Us</h1>\n",
    "    <p>If you have any questions, please reach out at contact@example.com.</p>\n",
    "    <a href=\"/\">Go back Home</a>\n",
    "    '''\n",
    "    \n",
    "# Function to run the Flask app\n",
    "def run_flask():\n",
    "    display(Javascript('window.open(\"/proxy/5000/\",\"_blank\")'))  # Opens a new tab in the browser for the app\n",
    "    app.run(host='0.0.0.0', port=5000)\n",
    "\n",
    "# Start the Flask application\n",
    "run_flask()"
   ]
  },
  {
   "cell_type": "code",
   "execution_count": 11,
   "id": "e00b24d9-d301-41dd-9109-0f6c3f7f70d4",
   "metadata": {},
   "outputs": [
    {
     "data": {
      "application/javascript": [
       "window.open(\"/proxy/5000/\",\"_blank\")"
      ],
      "text/plain": [
       "<IPython.core.display.Javascript object>"
      ]
     },
     "metadata": {},
     "output_type": "display_data"
    },
    {
     "name": "stdout",
     "output_type": "stream",
     "text": [
      " * Serving Flask app '__main__'\n",
      " * Debug mode: off\n"
     ]
    },
    {
     "name": "stderr",
     "output_type": "stream",
     "text": [
      "WARNING: This is a development server. Do not use it in a production deployment. Use a production WSGI server instead.\n",
      " * Running on all addresses (0.0.0.0)\n",
      " * Running on http://127.0.0.1:5000\n",
      " * Running on http://192.168.0.102:5000\n",
      "Press CTRL+C to quit\n",
      "192.168.0.102 - - [30/Sep/2024 13:04:28] \"GET / HTTP/1.1\" 200 -\n",
      "192.168.0.102 - - [30/Sep/2024 13:04:28] \"GET /static/images/home_image.jpg HTTP/1.1\" 404 -\n",
      "192.168.0.102 - - [30/Sep/2024 13:04:32] \"GET /about HTTP/1.1\" 200 -\n",
      "192.168.0.102 - - [30/Sep/2024 13:04:32] \"GET /static/images/about_image.jpg HTTP/1.1\" 404 -\n",
      "192.168.0.102 - - [30/Sep/2024 13:04:33] \"GET / HTTP/1.1\" 200 -\n",
      "192.168.0.102 - - [30/Sep/2024 13:04:33] \"GET /static/images/home_image.jpg HTTP/1.1\" 404 -\n"
     ]
    }
   ],
   "source": [
    "from flask import Flask, render_template, request, redirect, url_for\n",
    "from IPython.display import display, Javascript\n",
    "\n",
    "app = Flask(__name__)\n",
    "\n",
    "# Store registered users in memory (for simplicity)\n",
    "users = []\n",
    "\n",
    "# Route for the Home page\n",
    "@app.route('/')\n",
    "def home():\n",
    "    return render_template('home.html')\n",
    "\n",
    "# Route for the About page\n",
    "@app.route('/about')\n",
    "def about():\n",
    "    return render_template('about.html')\n",
    "\n",
    "# Route for User Registration page\n",
    "@app.route('/register', methods=['GET', 'POST'])\n",
    "def register():\n",
    "    if request.method == 'POST':\n",
    "        username = request.form['username']\n",
    "        password = request.form['password']\n",
    "        users.append({'username': username, 'password': password})\n",
    "        return redirect(url_for('home'))\n",
    "    return render_template('register.html')\n",
    "\n",
    "# Route for Data Display page\n",
    "@app.route('/data')\n",
    "def data():\n",
    "    return render_template('data.html')\n",
    "\n",
    "# Function to run the Flask app\n",
    "def run_flask():\n",
    "    display(Javascript('window.open(\"/proxy/5000/\",\"_blank\")'))  # Open the app in a new tab\n",
    "    app.run(host='0.0.0.0', port=5000)\n",
    "\n",
    "# Start the Flask application\n",
    "run_flask()"
   ]
  },
  {
   "cell_type": "code",
   "execution_count": 19,
   "id": "8a2bd51c-79fa-4a97-8fc7-781ee6ee927d",
   "metadata": {},
   "outputs": [
    {
     "data": {
      "application/javascript": [
       "window.open(\"/proxy/5000/\",\"_blank\")"
      ],
      "text/plain": [
       "<IPython.core.display.Javascript object>"
      ]
     },
     "metadata": {},
     "output_type": "display_data"
    },
    {
     "name": "stdout",
     "output_type": "stream",
     "text": [
      " * Serving Flask app '__main__'\n",
      " * Debug mode: off\n"
     ]
    },
    {
     "name": "stderr",
     "output_type": "stream",
     "text": [
      "WARNING: This is a development server. Do not use it in a production deployment. Use a production WSGI server instead.\n",
      " * Running on all addresses (0.0.0.0)\n",
      " * Running on http://127.0.0.1:5000\n",
      " * Running on http://192.168.0.102:5000\n",
      "Press CTRL+C to quit\n",
      "192.168.0.102 - - [30/Sep/2024 13:13:50] \"GET / HTTP/1.1\" 200 -\n",
      "192.168.0.102 - - [30/Sep/2024 13:13:50] \"GET /static/images/1.jpg HTTP/1.1\" 304 -\n",
      "192.168.0.102 - - [30/Sep/2024 13:13:53] \"GET /about HTTP/1.1\" 200 -\n",
      "192.168.0.102 - - [30/Sep/2024 13:13:53] \"GET /static/images/3.jpg HTTP/1.1\" 304 -\n",
      "192.168.0.102 - - [30/Sep/2024 13:13:55] \"GET / HTTP/1.1\" 200 -\n",
      "192.168.0.102 - - [30/Sep/2024 13:13:55] \"GET /static/images/1.jpg HTTP/1.1\" 304 -\n",
      "192.168.0.102 - - [30/Sep/2024 13:13:56] \"GET /data HTTP/1.1\" 200 -\n",
      "192.168.0.102 - - [30/Sep/2024 13:13:56] \"GET /static/images/2.jpg HTTP/1.1\" 200 -\n",
      "192.168.0.102 - - [30/Sep/2024 13:40:30] \"GET / HTTP/1.1\" 200 -\n",
      "192.168.0.102 - - [30/Sep/2024 13:40:30] \"GET /static/images/1.jpg HTTP/1.1\" 304 -\n",
      "192.168.0.102 - - [30/Sep/2024 13:40:54] \"GET /about HTTP/1.1\" 200 -\n",
      "192.168.0.102 - - [30/Sep/2024 13:40:54] \"GET /static/images/3.jpg HTTP/1.1\" 304 -\n",
      "192.168.0.102 - - [30/Sep/2024 13:41:12] \"GET / HTTP/1.1\" 200 -\n",
      "192.168.0.102 - - [30/Sep/2024 13:41:12] \"GET /static/images/1.jpg HTTP/1.1\" 304 -\n",
      "192.168.0.102 - - [30/Sep/2024 13:41:13] \"GET /data HTTP/1.1\" 200 -\n",
      "192.168.0.102 - - [30/Sep/2024 13:41:13] \"GET /static/images/2.jpg HTTP/1.1\" 304 -\n"
     ]
    }
   ],
   "source": [
    "from flask import Flask, render_template, request, redirect, url_for\n",
    "from IPython.display import display, Javascript\n",
    "\n",
    "app = Flask(__name__)\n",
    "\n",
    "# Store registered users in memory (for simplicity)\n",
    "users = []\n",
    "\n",
    "# Route for the Home page\n",
    "@app.route('/')\n",
    "def home():\n",
    "    return render_template('home.html')\n",
    "\n",
    "# Route for the About page\n",
    "@app.route('/about')\n",
    "def about():\n",
    "    return render_template('about.html')\n",
    "\n",
    "# Route for User Registration page\n",
    "@app.route('/register', methods=['GET', 'POST'])\n",
    "def register():\n",
    "    if request.method == 'POST':\n",
    "        username = request.form['username']\n",
    "        password = request.form['password']\n",
    "        users.append({'username': username, 'password': password})\n",
    "        return redirect(url_for('home'))\n",
    "    return render_template('register.html')\n",
    "\n",
    "# Route for Data Display page\n",
    "@app.route('/data')\n",
    "def data():\n",
    "    return render_template('data.html')\n",
    "\n",
    "# Function to run the Flask app\n",
    "def run_flask():\n",
    "    display(Javascript('window.open(\"/proxy/5000/\",\"_blank\")'))  # Open the app in a new tab\n",
    "    app.run(host='0.0.0.0', port=5000)\n",
    "\n",
    "# Start the Flask application\n",
    "run_flask()"
   ]
  },
  {
   "cell_type": "code",
   "execution_count": null,
   "id": "812868ea-6368-4c25-8149-763834d05a07",
   "metadata": {},
   "outputs": [],
   "source": []
  },
  {
   "cell_type": "code",
   "execution_count": null,
   "id": "7556d9be-cd67-4a15-a349-1f9dc4c8c0af",
   "metadata": {},
   "outputs": [],
   "source": []
  }
 ],
 "metadata": {
  "kernelspec": {
   "display_name": "Python 3 (ipykernel)",
   "language": "python",
   "name": "python3"
  },
  "language_info": {
   "codemirror_mode": {
    "name": "ipython",
    "version": 3
   },
   "file_extension": ".py",
   "mimetype": "text/x-python",
   "name": "python",
   "nbconvert_exporter": "python",
   "pygments_lexer": "ipython3",
   "version": "3.11.4"
  }
 },
 "nbformat": 4,
 "nbformat_minor": 5
}
