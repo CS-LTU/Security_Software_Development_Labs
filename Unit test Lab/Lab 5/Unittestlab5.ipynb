{
 "cells": [
  {
   "cell_type": "code",
   "execution_count": 4,
   "id": "10c5890f-1453-4d62-861c-bb438569f005",
   "metadata": {},
   "outputs": [
    {
     "name": "stderr",
     "output_type": "stream",
     "text": [
      "..\n",
      "----------------------------------------------------------------------\n",
      "Ran 2 tests in 0.010s\n",
      "\n",
      "OK\n"
     ]
    }
   ],
   "source": [
    "import sqlite3\n",
    "import os\n",
    "import unittest\n",
    "\n",
    "# Step 1: Create the SQLite database and insert data\n",
    "def create_database():\n",
    "    # Define the path to the database\n",
    "    db_path = 'unittestuser.db'\n",
    "\n",
    "    # Connect to the SQLite database (this creates the database if it doesn't exist)\n",
    "    conn = sqlite3.connect(db_path)\n",
    "    cursor = conn.cursor()\n",
    "\n",
    "    # Create a table for users\n",
    "    cursor.execute('''\n",
    "    CREATE TABLE IF NOT EXISTS users (\n",
    "        id INTEGER PRIMARY KEY AUTOINCREMENT,\n",
    "        username TEXT NOT NULL,\n",
    "        email TEXT NOT NULL UNIQUE\n",
    "    )\n",
    "    ''')\n",
    "\n",
    "    # Insert user data\n",
    "    cursor.execute('''\n",
    "    INSERT INTO users (username, email) VALUES (?, ?)\n",
    "    ''', ('Xin', 'x.lu@leedstrinity.ac.uk'))\n",
    "\n",
    "    # Commit the changes and close the connection\n",
    "    conn.commit()\n",
    "    cursor.close()\n",
    "    conn.close()\n",
    "\n",
    "# Step 2: Function to check user in the database\n",
    "def user_exists(username, email):\n",
    "    # Connect to the SQLite database\n",
    "    conn = sqlite3.connect('user.db')\n",
    "    cursor = conn.cursor()\n",
    "\n",
    "    # Execute a query to check if the user exists\n",
    "    cursor.execute(\"SELECT * FROM users WHERE username = ? AND email = ?\", (username, email))\n",
    "    result = cursor.fetchone()\n",
    "\n",
    "    # Close the connection\n",
    "    cursor.close()\n",
    "    conn.close()\n",
    "\n",
    "    return result is not None\n",
    "\n",
    "# Step 3: Unit tests\n",
    "class TestUserExists(unittest.TestCase):\n",
    "\n",
    "    def setUp(self):\n",
    "        # This method will run before each test\n",
    "        self.username = 'Xin'\n",
    "        self.email = 'x.lu@leedstrinity.ac.uk'\n",
    "\n",
    "    def test_user_exists(self):\n",
    "        # Test to check if the user exists in the database\n",
    "        self.assertTrue(user_exists(self.username, self.email), f\"{self.username} should exist in the database.\")\n",
    "\n",
    "    def test_user_not_exists(self):\n",
    "        # Test to check for a non-existent user\n",
    "        self.assertFalse(user_exists('NonExistentUser', 'nonexistent@example.com'), 'NonExistentUser should not exist in the database.')\n",
    "\n",
    "# Create the database and insert data\n",
    "create_database()\n",
    "\n",
    "# Running the unit tests\n",
    "if __name__ == '__main__':\n",
    "    unittest.main(argv=[''], exit=False)\n"
   ]
  },
  {
   "cell_type": "code",
   "execution_count": null,
   "id": "fc00a860-ad29-4ebb-87ae-fa48577b5b7e",
   "metadata": {},
   "outputs": [],
   "source": []
  }
 ],
 "metadata": {
  "kernelspec": {
   "display_name": "Python 3 (ipykernel)",
   "language": "python",
   "name": "python3"
  },
  "language_info": {
   "codemirror_mode": {
    "name": "ipython",
    "version": 3
   },
   "file_extension": ".py",
   "mimetype": "text/x-python",
   "name": "python",
   "nbconvert_exporter": "python",
   "pygments_lexer": "ipython3",
   "version": "3.11.4"
  }
 },
 "nbformat": 4,
 "nbformat_minor": 5
}
