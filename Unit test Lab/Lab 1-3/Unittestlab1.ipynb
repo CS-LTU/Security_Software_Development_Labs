{
 "cells": [
  {
   "cell_type": "code",
   "execution_count": 3,
   "id": "e69dbacd-5d57-41cb-8d5f-a97a06179372",
   "metadata": {},
   "outputs": [],
   "source": [
    "# Define the function\n",
    "def add(a, b):\n",
    "    return a + b"
   ]
  },
  {
   "cell_type": "code",
   "execution_count": 5,
   "id": "b3004b05-4b1e-4fc5-8543-8eb32bd44fe8",
   "metadata": {},
   "outputs": [
    {
     "name": "stderr",
     "output_type": "stream",
     "text": [
      "test_add (__main__.TestMathOperations.test_add) ... ok\n",
      "\n",
      "----------------------------------------------------------------------\n",
      "Ran 1 test in 0.004s\n",
      "\n",
      "OK\n"
     ]
    },
    {
     "data": {
      "text/plain": [
       "<unittest.main.TestProgram at 0x21868f525d0>"
      ]
     },
     "execution_count": 5,
     "metadata": {},
     "output_type": "execute_result"
    }
   ],
   "source": [
    "import unittest\n",
    "\n",
    "# Create a test case class\n",
    "class TestMathOperations(unittest.TestCase):\n",
    "    \n",
    "    # Define a test method\n",
    "    def test_add(self):\n",
    "        self.assertEqual(add(1, 2), 3)    # Test with positive numbers\n",
    "        self.assertEqual(add(-1, 1), 0)   # Test with a negative and positive number\n",
    "        self.assertEqual(add(0, 0), 0)    # Test with zeros\n",
    "\n",
    "# Run the test in the same cell\n",
    "unittest.main(argv=[''], verbosity=2, exit=False)"
   ]
  },
  {
   "cell_type": "code",
   "execution_count": 11,
   "id": "d6f5d158-99bd-405f-b98e-cde5500b2685",
   "metadata": {},
   "outputs": [],
   "source": [
    "# Flask app definition\n",
    "from flask import Flask\n",
    "\n",
    "app = Flask(__name__)\n",
    "\n",
    "@app.route('/')\n",
    "def home():\n",
    "    return \"Welcome to the Flask App!\""
   ]
  },
  {
   "cell_type": "code",
   "execution_count": 13,
   "id": "9e0ffc28-4579-4b5e-9db0-8c34b945dfd7",
   "metadata": {},
   "outputs": [
    {
     "name": "stderr",
     "output_type": "stream",
     "text": [
      "test_home_page (__main__.FlaskAppTests.test_home_page) ... ok\n",
      "test_add (__main__.TestMathOperations.test_add) ... ok\n",
      "\n",
      "----------------------------------------------------------------------\n",
      "Ran 2 tests in 0.058s\n",
      "\n",
      "OK\n"
     ]
    },
    {
     "data": {
      "text/plain": [
       "<unittest.main.TestProgram at 0x2186bcfa7d0>"
      ]
     },
     "execution_count": 13,
     "metadata": {},
     "output_type": "execute_result"
    }
   ],
   "source": [
    "import unittest\n",
    "\n",
    "class FlaskAppTests(unittest.TestCase):\n",
    "    \n",
    "    def setUp(self):\n",
    "        # Set up the Flask test client\n",
    "        app.testing = True  # Enable testing mode\n",
    "        self.client = app.test_client()  # Initialize the test client\n",
    "    \n",
    "    def test_home_page(self):\n",
    "        # Send a GET request to the home page\n",
    "        response = self.client.get('/')\n",
    "        \n",
    "        # Check that the response status code is 200 (OK)\n",
    "        self.assertEqual(response.status_code, 200)\n",
    "        \n",
    "        # Check that the response data is as expected\n",
    "        self.assertIn(b\"Welcome to the Flask App!\", response.data)\n",
    "\n",
    "# Run the test\n",
    "unittest.main(argv=[''], verbosity=2, exit=False)"
   ]
  },
  {
   "cell_type": "code",
   "execution_count": 15,
   "id": "56b2c57e-f32a-44a3-93c5-0145cfa69888",
   "metadata": {},
   "outputs": [],
   "source": [
    "from flask import Flask, render_template\n",
    "\n",
    "app = Flask(__name__)\n",
    "\n",
    "# Define a route for the home page that renders the separate HTML template\n",
    "@app.route('/')\n",
    "def home():\n",
    "    return render_template(\"home.html\")"
   ]
  },
  {
   "cell_type": "code",
   "execution_count": 17,
   "id": "37063436-56b1-4868-bdd9-5a5ac5715f7d",
   "metadata": {},
   "outputs": [
    {
     "name": "stderr",
     "output_type": "stream",
     "text": [
      "test_home_page (__main__.FlaskAppTests.test_home_page) ... ok\n",
      "test_add (__main__.TestMathOperations.test_add) ... ok\n",
      "\n",
      "----------------------------------------------------------------------\n",
      "Ran 2 tests in 0.018s\n",
      "\n",
      "OK\n"
     ]
    },
    {
     "data": {
      "text/plain": [
       "<unittest.main.TestProgram at 0x2186837d910>"
      ]
     },
     "execution_count": 17,
     "metadata": {},
     "output_type": "execute_result"
    }
   ],
   "source": [
    "import unittest\n",
    "\n",
    "class FlaskAppTests(unittest.TestCase):\n",
    "    \n",
    "    def setUp(self):\n",
    "        # Set up the Flask test client\n",
    "        app.testing = True  # Enable testing mode\n",
    "        self.client = app.test_client()  # Initialize the test client\n",
    "    \n",
    "    def test_home_page(self):\n",
    "        # Send a GET request to the home page\n",
    "        response = self.client.get('/')\n",
    "        \n",
    "        # Check that the response status code is 200 (OK)\n",
    "        self.assertEqual(response.status_code, 200)\n",
    "        \n",
    "        # Check that the response contains specific HTML content from the home.html template\n",
    "        self.assertIn(b\"<title>Home Page</title>\", response.data)\n",
    "        self.assertIn(b\"<h1>Welcome to the Flask App!</h1>\", response.data)\n",
    "        self.assertIn(b\"<p>This is a simple web application with HTML.</p>\", response.data)\n",
    "\n",
    "# Run the test\n",
    "unittest.main(argv=[''], verbosity=2, exit=False)"
   ]
  },
  {
   "cell_type": "code",
   "execution_count": null,
   "id": "a0f00468-7924-4e25-a1ec-2a0daf147b7c",
   "metadata": {},
   "outputs": [],
   "source": []
  }
 ],
 "metadata": {
  "kernelspec": {
   "display_name": "Python 3 (ipykernel)",
   "language": "python",
   "name": "python3"
  },
  "language_info": {
   "codemirror_mode": {
    "name": "ipython",
    "version": 3
   },
   "file_extension": ".py",
   "mimetype": "text/x-python",
   "name": "python",
   "nbconvert_exporter": "python",
   "pygments_lexer": "ipython3",
   "version": "3.11.4"
  }
 },
 "nbformat": 4,
 "nbformat_minor": 5
}
