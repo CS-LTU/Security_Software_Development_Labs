{
 "cells": [
  {
   "cell_type": "code",
   "execution_count": 3,
   "id": "1a67161f-ad3b-4c36-a403-d2cfbd48b66d",
   "metadata": {},
   "outputs": [],
   "source": [
    "from flask import Flask, render_template\n",
    "\n",
    "app = Flask(__name__)\n",
    "\n",
    "# Define routes for each page\n",
    "@app.route('/')\n",
    "def home():\n",
    "    return render_template(\"home.html\")\n",
    "\n",
    "@app.route('/register')\n",
    "def register():\n",
    "    return render_template(\"register.html\")\n",
    "\n",
    "@app.route('/login')\n",
    "def login():\n",
    "    return render_template(\"login.html\")"
   ]
  },
  {
   "cell_type": "code",
   "execution_count": 5,
   "id": "fa3b91e4-4afb-4d11-b180-9885dca9839c",
   "metadata": {},
   "outputs": [
    {
     "name": "stderr",
     "output_type": "stream",
     "text": [
      "test_home_page (__main__.FlaskAppTests.test_home_page) ... ok\n",
      "test_login_page (__main__.FlaskAppTests.test_login_page) ... ok\n",
      "test_register_page (__main__.FlaskAppTests.test_register_page) ... ok\n",
      "\n",
      "----------------------------------------------------------------------\n",
      "Ran 3 tests in 0.049s\n",
      "\n",
      "OK\n"
     ]
    },
    {
     "data": {
      "text/plain": [
       "<unittest.main.TestProgram at 0x2f970f3ba90>"
      ]
     },
     "execution_count": 5,
     "metadata": {},
     "output_type": "execute_result"
    }
   ],
   "source": [
    "import unittest\n",
    "\n",
    "class FlaskAppTests(unittest.TestCase):\n",
    "    \n",
    "    def setUp(self):\n",
    "        # Set up the Flask test client\n",
    "        app.testing = True  # Enable testing mode\n",
    "        self.client = app.test_client()  # Initialize the test client\n",
    "    \n",
    "    def test_home_page(self):\n",
    "        # Test the home page\n",
    "        response = self.client.get('/')\n",
    "        self.assertEqual(response.status_code, 200)\n",
    "        self.assertIn(b\"<title>Home Page</title>\", response.data)\n",
    "        self.assertIn(b\"<h1>Welcome to the Flask App!</h1>\", response.data)\n",
    "\n",
    "    def test_register_page(self):\n",
    "        # Test the register page\n",
    "        response = self.client.get('/register')\n",
    "        self.assertEqual(response.status_code, 200)\n",
    "        self.assertIn(b\"<title>Register</title>\", response.data)\n",
    "        self.assertIn(b\"<h1>Register</h1>\", response.data)\n",
    "\n",
    "    def test_login_page(self):\n",
    "        # Test the login page\n",
    "        response = self.client.get('/login')\n",
    "        self.assertEqual(response.status_code, 200)\n",
    "        self.assertIn(b\"<title>Login</title>\", response.data)\n",
    "        self.assertIn(b\"<h1>Login</h1>\", response.data)\n",
    "\n",
    "# Run the test\n",
    "unittest.main(argv=[''], verbosity=2, exit=False)"
   ]
  },
  {
   "cell_type": "code",
   "execution_count": null,
   "id": "d46b3c8f-fe47-47b1-a08e-212bae6f8ec4",
   "metadata": {},
   "outputs": [],
   "source": []
  }
 ],
 "metadata": {
  "kernelspec": {
   "display_name": "Python 3 (ipykernel)",
   "language": "python",
   "name": "python3"
  },
  "language_info": {
   "codemirror_mode": {
    "name": "ipython",
    "version": 3
   },
   "file_extension": ".py",
   "mimetype": "text/x-python",
   "name": "python",
   "nbconvert_exporter": "python",
   "pygments_lexer": "ipython3",
   "version": "3.11.4"
  }
 },
 "nbformat": 4,
 "nbformat_minor": 5
}
